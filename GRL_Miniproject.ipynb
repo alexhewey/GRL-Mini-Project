{
  "nbformat": 4,
  "nbformat_minor": 0,
  "metadata": {
    "colab": {
      "provenance": [],
      "gpuType": "T4"
    },
    "kernelspec": {
      "name": "python3",
      "display_name": "Python 3"
    },
    "language_info": {
      "name": "python"
    },
    "accelerator": "GPU"
  },
  "cells": [
    {
      "cell_type": "code",
      "execution_count": 1,
      "metadata": {
        "colab": {
          "base_uri": "https://localhost:8080/"
        },
        "id": "lLIllFuSv-Sw",
        "outputId": "42740a90-eef9-4c56-a747-1824e2af22fb"
      },
      "outputs": [
        {
          "output_type": "stream",
          "name": "stdout",
          "text": [
            "2.1.0+cu121\n"
          ]
        }
      ],
      "source": [
        "# Check PyTorch version installed on this system\n",
        "!python -c \"import torch; print(torch.__version__)\""
      ]
    },
    {
      "cell_type": "code",
      "source": [
        "%%capture\n",
        "# Download the corresponding PyTorch Geometric module\n",
        "\"\"\"\n",
        "Assign to TORCH with what you get from the cell above. E.g., export TORCH=1.12.1+cu113\n",
        "\"\"\"\n",
        "%env TORCH=2.1.0+cu121\n",
        "!pip install torch-scatter -f https://data.pyg.org/whl/torch-${TORCH}.html\n",
        "!pip install torch-sparse -f https://data.pyg.org/whl/torch-${TORCH}.html\n",
        "!pip install torch-geometric"
      ],
      "metadata": {
        "id": "wj4gIIEdxY_w"
      },
      "execution_count": 2,
      "outputs": []
    },
    {
      "cell_type": "code",
      "source": [
        "import random\n",
        "import numpy as np\n",
        "import torch\n",
        "import torch.nn as nn\n",
        "from torch_geometric.utils import from_networkx\n",
        "from torch_geometric.data import Data\n",
        "from torch_geometric.loader import DataLoader\n",
        "from torch_geometric.nn import Sequential, GCNConv, global_mean_pool\n",
        "import networkx as nx\n",
        "import matplotlib.pyplot as plt\n",
        "\n",
        "device = torch.device('cuda' if torch.cuda.is_available() else 'cpu')\n",
        "print(device)\n",
        "rng = np.random.default_rng()"
      ],
      "metadata": {
        "colab": {
          "base_uri": "https://localhost:8080/"
        },
        "id": "CfU64gKTxZo1",
        "outputId": "33665bed-2300-4def-923e-5315e1520a6c"
      },
      "execution_count": 3,
      "outputs": [
        {
          "output_type": "stream",
          "name": "stdout",
          "text": [
            "cuda\n"
          ]
        }
      ]
    },
    {
      "cell_type": "code",
      "source": [
        "from typing import Callable, Optional, Union\n",
        "\n",
        "import torch\n",
        "from torch import Tensor\n",
        "\n",
        "from torch_geometric.nn.conv import MessagePassing\n",
        "from torch_geometric.nn.dense.linear import Linear\n",
        "from torch_geometric.nn.inits import reset\n",
        "from torch_geometric.typing import (\n",
        "    Adj,\n",
        "    OptPairTensor,\n",
        "    OptTensor,\n",
        "    Size,\n",
        "    SparseTensor,\n",
        ")\n",
        "from torch_geometric.utils import spmm\n",
        "\n",
        "class GINConv(MessagePassing):\n",
        "  def __init__(self, nn_final: Callable, nn_intermediate_self: Callable, nn_intermediate_sum: Callable, eps: float = 0., train_eps: bool = False,\n",
        "                 **kwargs):\n",
        "        kwargs.setdefault('aggr', 'add')\n",
        "        super().__init__(**kwargs)\n",
        "        self.nn_final = nn_final\n",
        "        self.nn_intermediate_self = nn_intermediate_self\n",
        "        self.nn_intermediate_sum = nn_intermediate_sum\n",
        "        self.initial_eps = eps\n",
        "        if train_eps:\n",
        "            self.eps = torch.nn.Parameter(torch.empty(1))\n",
        "        else:\n",
        "            self.register_buffer('eps', torch.empty(1))\n",
        "        self.reset_parameters()\n",
        "\n",
        "  def reset_parameters(self):\n",
        "        super().reset_parameters()\n",
        "        reset(self.nn_final)\n",
        "        reset(self.nn_intermediate_self)\n",
        "        reset(self.nn_intermediate_sum)\n",
        "        self.eps.data.fill_(self.initial_eps)\n",
        "\n",
        "\n",
        "  def forward(self, x: Union[Tensor, OptPairTensor], edge_index: Adj,\n",
        "                size: Size = None) -> Tensor:\n",
        "\n",
        "        if isinstance(x, Tensor):\n",
        "            x: OptPairTensor = (x, x)\n",
        "\n",
        "        # propagate_type: (x: OptPairTensor)\n",
        "        out = self.propagate(edge_index, x=x, size=size)\n",
        "\n",
        "        x_r = x[1]\n",
        "        if x_r is not None:\n",
        "            out = out + (1 + self.eps) * self.nn_intermediate_self(x_r)\n",
        "\n",
        "        return self.nn_final(out)\n",
        "\n",
        "\n",
        "  def message(self, x_j: Tensor) -> Tensor:\n",
        "      return self.nn_intermediate_sum(x_j)\n",
        "\n",
        "class OtherConv(MessagePassing):\n",
        "  def __init__(self, nn_final: Callable, nn_intermediate_self: Callable, nn_intermediate_sum: Callable, eps: float = 0., train_eps: bool = False,\n",
        "                 **kwargs):\n",
        "        kwargs.setdefault('aggr', 'add')\n",
        "        super().__init__(**kwargs)\n",
        "        self.nn_final = nn_final\n",
        "        self.nn_intermediate_self = nn_intermediate_self\n",
        "        self.nn_intermediate_sum = nn_intermediate_sum\n",
        "        self.initial_eps = eps\n",
        "        if train_eps:\n",
        "            self.eps = torch.nn.Parameter(torch.empty(1))\n",
        "        else:\n",
        "            self.register_buffer('eps', torch.empty(1))\n",
        "        self.reset_parameters()\n",
        "\n",
        "  def reset_parameters(self):\n",
        "        super().reset_parameters()\n",
        "        reset(self.nn_final)\n",
        "        reset(self.nn_intermediate_self)\n",
        "        reset(self.nn_intermediate_sum)\n",
        "        self.eps.data.fill_(self.initial_eps)\n",
        "\n",
        "\n",
        "  def forward(self, x: Union[Tensor, OptPairTensor], edge_index: Adj,\n",
        "                size: Size = None) -> Tensor:\n",
        "\n",
        "        if isinstance(x, Tensor):\n",
        "            x: OptPairTensor = (x, x)\n",
        "\n",
        "        # propagate_type: (x: OptPairTensor)\n",
        "        out = self.propagate(edge_index, x=x, size=size)\n",
        "\n",
        "        x_r = x[1]\n",
        "        if x_r is not None:\n",
        "            out = self.nn_intermediate_sum(out) + (1 + self.eps) * self.nn_intermediate_self(x_r)\n",
        "\n",
        "        return self.nn_final(out)\n",
        "\n",
        "\n",
        "  def message(self, x_j: Tensor) -> Tensor:\n",
        "      return x_j\n",
        "\n",
        "\n"
      ],
      "metadata": {
        "id": "a5vDf6781_AU"
      },
      "execution_count": 4,
      "outputs": []
    },
    {
      "cell_type": "code",
      "source": [
        "class GINLayer(nn.Module):\n",
        "  def __init__(self, input_dim, intermediate_dim, output_dim, final_mlp_structure, intermediate_self_mlp_structure, intermediate_sum_mlp_structure, activation=nn.ReLU()):\n",
        "    super().__init__()\n",
        "    self.input_dim = input_dim\n",
        "    self.intermediate_dim = intermediate_dim\n",
        "    self.output_dim = output_dim\n",
        "\n",
        "    self.intermediate_self_mlp = self.generate_mlp(intermediate_self_mlp_structure,input_dim,intermediate_dim,activation)\n",
        "    self.intermediate_sum_mlp = self.generate_mlp(intermediate_sum_mlp_structure,input_dim,intermediate_dim,activation)\n",
        "    self.final_mlp = self.generate_mlp(final_mlp_structure,intermediate_dim,output_dim,activation)\n",
        "\n",
        "    self.gin_conv = GINConv(self.final_mlp, self.intermediate_self_mlp, self.intermediate_sum_mlp)\n",
        "\n",
        "  def generate_mlp(self, sequence, input_dim, output_dim, activation):\n",
        "    mlp = [nn.Linear(input_dim, sequence[0], bias=False), activation]\n",
        "    for i in range(len(sequence)-1):\n",
        "      mlp.append(nn.Linear(sequence[i], sequence[i+1], bias=False))\n",
        "      mlp.append(activation)\n",
        "    mlp.append(nn.Linear(sequence[-1], output_dim, bias=False))\n",
        "    return nn.Sequential(*mlp)\n",
        "\n",
        "  def forward(self, x, adj):\n",
        "    return self.gin_conv(x, adj)\n",
        "\n",
        "class OtherLayer(nn.Module):\n",
        "  def __init__(self, input_dim, intermediate_dim, output_dim, final_mlp_structure, intermediate_self_mlp_structure, intermediate_sum_mlp_structure, activation=nn.ReLU()):\n",
        "    super().__init__()\n",
        "    self.input_dim = input_dim\n",
        "    self.intermediate_dim = intermediate_dim\n",
        "    self.output_dim = output_dim\n",
        "\n",
        "    self.intermediate_self_mlp = self.generate_mlp(intermediate_self_mlp_structure,input_dim,intermediate_dim,activation)\n",
        "    self.intermediate_sum_mlp = self.generate_mlp(intermediate_sum_mlp_structure,input_dim,intermediate_dim,activation)\n",
        "    self.final_mlp = self.generate_mlp(final_mlp_structure,intermediate_dim,output_dim,activation)\n",
        "\n",
        "    self.gin_conv = OtherConv(self.final_mlp, self.intermediate_self_mlp, self.intermediate_sum_mlp)\n",
        "\n",
        "  def generate_mlp(self, sequence, input_dim, output_dim, activation):\n",
        "    mlp = [nn.Linear(input_dim, sequence[0], bias=False), activation]\n",
        "    for i in range(len(sequence)-1):\n",
        "      mlp.append(nn.Linear(sequence[i], sequence[i+1], bias=False))\n",
        "      mlp.append(activation)\n",
        "    mlp.append(nn.Linear(sequence[-1], output_dim, bias=False))\n",
        "    return nn.Sequential(*mlp)\n",
        "\n",
        "  def forward(self, x, adj):\n",
        "    return self.gin_conv(x, adj)\n"
      ],
      "metadata": {
        "id": "X7SvaTRh_fEJ"
      },
      "execution_count": 5,
      "outputs": []
    },
    {
      "cell_type": "code",
      "source": [
        "def train_epoch(dataloader, model, loss_fn, optimiser):\n",
        "    \"\"\"Do one epoch-worth of training.\"\"\"\n",
        "\n",
        "    # Put the model in training mode\n",
        "    model.train()\n",
        "\n",
        "    # The number of datapoints\n",
        "    size = len(dataloader.dataset)\n",
        "\n",
        "    # Loop over each batch of datapoints\n",
        "    for graph_type in dataloader:\n",
        "        #print(graph_type)\n",
        "        # Set all the gradients to zero\n",
        "        optimiser.zero_grad()\n",
        "        preds = []\n",
        "        for graph in graph_type:\n",
        "          graph = graph.to(device)\n",
        "          # Make a prediction using the current parameters\n",
        "          preds.append(model(graph.x.to(torch.float), graph.edge_index))\n",
        "        #print(\"pred\", pred)\n",
        "        # Compute the loss for this prediction\n",
        "        loss = loss_fn(preds)\n",
        "        print(\"loss\", loss.detach().cpu().item())\n",
        "        #print(\"data.y\", data.y)\n",
        "\n",
        "        # Propagate the loss backwards to compute the gradients\n",
        "        loss.backward()\n",
        "\n",
        "        # Do one step of optimisation\n",
        "        optimiser.step()\n",
        "\n",
        "def train(train_dataloader, test_dataloader, model, loss_fn, optimiser,\n",
        "          epochs=200, output_every=10):\n",
        "    \"\"\"Train a model for a certain number of epochs.\"\"\"\n",
        "    results_flag = True\n",
        "    # Loop through the epochs\n",
        "    for t in range(1, epochs+1):\n",
        "\n",
        "        # Do the training for this epoch\n",
        "        train_epoch(train_dataloader, model, loss_fn, optimiser)\n",
        "\n",
        "        # Output the accuracy of the model every so often\n",
        "\n",
        "        if output_every is not None and t % output_every == 0:\n",
        "            results = test(train_dataloader, model)\n",
        "            if results_flag:\n",
        "              best_results = [0]*len(results)\n",
        "              results_flag = False\n",
        "\n",
        "            no_graphs = [result[0] for result in results]\n",
        "            no_distinguished_list = [result[1] for result in results]\n",
        "            best_results = [max(best_result, no_distinguished) for (best_result, no_distinguished) in zip(best_results, no_distinguished_list)]\n",
        "            best_restults_percentages = [100*best_result/no_graph for (best_result, no_graph) in zip(best_results, no_graphs)]\n",
        "            print(f\"Epoch {t}\")\n",
        "            print(\"----------------------------\")\n",
        "            print(\"Accuracy: \", results)\n",
        "            print(\"Best results: \", best_results)\n",
        "            print(\"Best percentages: \", best_restults_percentages)\n",
        "            print()\n",
        "\n",
        "def test(dataloader, model):\n",
        "    \"\"\"Test a model on some data.\"\"\"\n",
        "\n",
        "    # Put the model in evaluation mode\n",
        "    model.eval()\n",
        "\n",
        "    # Get the number of datapoints\n",
        "    size = len(dataloader.dataset)\n",
        "\n",
        "    # The number of correct predictions\n",
        "    correct = 0\n",
        "\n",
        "    # We don't want to be computing the gradients\n",
        "    with torch.no_grad():\n",
        "        results = []\n",
        "        # Loop through the minibatches\n",
        "        for graph_type in dataloader:\n",
        "          preds = []\n",
        "          for graph in graph_type:\n",
        "            graph = graph.to(device)\n",
        "            # Compute the model predictions\n",
        "            preds.append(model(graph.x.to(torch.float), graph.edge_index))\n",
        "          #print(preds)\n",
        "          graph_no = len(preds)\n",
        "          preds = torch.stack(preds)\n",
        "          preds = (preds*10000).round() / 10000\n",
        "          #print(preds)\n",
        "          #print(torch.unique(preds, dim=0, return_counts=True))\n",
        "          distinct_no = len(torch.unique(preds, dim=0, return_counts=True)[1])\n",
        "          results.append((graph_no, distinct_no, graph_no - distinct_no))\n",
        "\n",
        "    # Compute the accuracy for the whole dataset and return it\n",
        "    return results"
      ],
      "metadata": {
        "id": "BXTB0SeVqTov"
      },
      "execution_count": 6,
      "outputs": []
    },
    {
      "cell_type": "code",
      "source": [
        "def criterion(embeddings):\n",
        "  counter = 0\n",
        "  cumulative_loss = 0.0\n",
        "  no_graphs = len(embeddings)\n",
        "  for i in range(no_graphs):\n",
        "    for j in range(i):\n",
        "      cumulative_loss += nn.functional.cosine_embedding_loss(embeddings[i], embeddings[j] + 0.01*torch.randn_like(embeddings[j]), torch.tensor(-1))\n",
        "      counter += 1\n",
        "\n",
        "  return cumulative_loss / counter"
      ],
      "metadata": {
        "id": "ImwWPOXDhyOF"
      },
      "execution_count": 7,
      "outputs": []
    },
    {
      "cell_type": "code",
      "source": [
        "def label_graphs(graph, no_feature_dicts, no_colour_1, no_colour_2, no_colour_3):\n",
        "  features = [1 for _ in range(no_colour_1)] + [2 for _ in range(no_colour_2)] + [3 for _ in range(no_colour_3)]\n",
        "  feature_dicts = []\n",
        "  for i in range(no_feature_dicts):\n",
        "    random.shuffle(features)\n",
        "    feature_dict = {i:item for (i,item) in enumerate(features)}\n",
        "    feature_dicts.append(feature_dict)\n",
        "\n",
        "  structurally_isomorphic_graphs = []\n",
        "\n",
        "  for feature_dict in feature_dicts:\n",
        "    temp_graph = graph.copy()\n",
        "    nx.set_node_attributes(temp_graph, feature_dict, name=\"colour\")\n",
        "    structurally_isomorphic_graphs.append(temp_graph)\n",
        "\n",
        "  hashes = []\n",
        "  distinguishable_graphs = []\n",
        "  for iso_graph in structurally_isomorphic_graphs:\n",
        "    hash = nx.weisfeiler_lehman_graph_hash(iso_graph,  node_attr=\"colour\", iterations=3, digest_size=16)\n",
        "    if not(hash in hashes):\n",
        "      distinguishable_graphs.append(from_networkx(iso_graph, group_node_attrs=[\"colour\"]))\n",
        "    hashes.append(hash)\n",
        "  print(\"number of distinguishable graphs: \", len(distinguishable_graphs))\n",
        "  return (distinguishable_graphs, len(distinguishable_graphs))\n"
      ],
      "metadata": {
        "id": "mvIWhRtTI8KZ"
      },
      "execution_count": 10,
      "outputs": []
    },
    {
      "cell_type": "code",
      "source": [
        "dataset = []\n",
        "total_graphs = 0\n",
        "for i in range(10):\n",
        "  graphs, no_graphs = label_graphs(nx.dense_gnm_random_graph(6,7, seed=i),200,2,2,2)\n",
        "  dataset.append(graphs)\n",
        "  total_graphs += no_graphs\n",
        "\n",
        "print(\"total number of graphs: \", total_graphs)"
      ],
      "metadata": {
        "colab": {
          "base_uri": "https://localhost:8080/"
        },
        "id": "Cm0uYVKOLVLA",
        "outputId": "ca044a01-2f38-4c3f-8975-38aa9baffa8c"
      },
      "execution_count": 14,
      "outputs": [
        {
          "output_type": "stream",
          "name": "stdout",
          "text": [
            "number of distinguishable graphs:  24\n",
            "number of distinguishable graphs:  48\n",
            "number of distinguishable graphs:  27\n",
            "number of distinguishable graphs:  17\n",
            "number of distinguishable graphs:  33\n",
            "number of distinguishable graphs:  84\n",
            "number of distinguishable graphs:  51\n",
            "number of distinguishable graphs:  30\n",
            "number of distinguishable graphs:  83\n",
            "number of distinguishable graphs:  45\n",
            "total number of graphs:  442\n"
          ]
        }
      ]
    },
    {
      "cell_type": "code",
      "source": [
        "graph = nx.dense_gnm_random_graph(6,7, seed=3).copy()\n",
        "### DO NOT MODIFY\n",
        "\n",
        "# Display a random pair\n",
        "fig, axs = plt.subplots(1, 1)\n",
        "#graph = random.choice(graphs)\n",
        "\n",
        "nx.draw(graph)\n",
        "\n",
        "plt.show()\n",
        "\n"
      ],
      "metadata": {
        "colab": {
          "base_uri": "https://localhost:8080/",
          "height": 406
        },
        "id": "-1uDRLCU_C5V",
        "outputId": "dd36dfa7-f411-40eb-91d8-ded1431764fd"
      },
      "execution_count": 27,
      "outputs": [
        {
          "output_type": "display_data",
          "data": {
            "text/plain": [
              "<Figure size 640x480 with 1 Axes>"
            ],
            "image/png": "[encoded data removed]"
          },
          "metadata": {}
        }
      ]
    },
    {
      "cell_type": "code",
      "source": [
        "\n",
        "class GINConv_model(nn.Module):\n",
        "  def __init__(self):\n",
        "    super().__init__()\n",
        "\n",
        "    self.gin_1 = GINLayer(input_dim=1, intermediate_dim=12, output_dim=1, final_mlp_structure=[5,8], intermediate_self_mlp_structure=[5,8] , intermediate_sum_mlp_structure=[5,8])\n",
        "    self.gin_2 = GINLayer(input_dim=1, intermediate_dim=16, output_dim=1, final_mlp_structure=[8,8], intermediate_self_mlp_structure=[8,8], intermediate_sum_mlp_structure=[8,8])\n",
        "    self.gin_3 = GINLayer(input_dim=1, intermediate_dim=32, output_dim=1, final_mlp_structure=[8,12], intermediate_self_mlp_structure=[8,12], intermediate_sum_mlp_structure=[8,12])\n",
        "\n",
        "    #self.output_mlp = nn.Sequential(*[nn.Linear(3,12), nn.ReLU(), nn.Linear(12,12), nn.ReLU(), nn.Linear(12,12)])\n",
        "\n",
        "  def forward(self, x, adj):\n",
        "    h1 = self.gin_1(x, adj)\n",
        "    h2 = self.gin_2(h1, adj)\n",
        "    h3 = self.gin_3(h2, adj)\n",
        "    #print(h3.size())\n",
        "    concat = torch.cat([h1,h2,h3], axis=1)\n",
        "    summed = torch.sum(concat, axis=0)\n",
        "    #print(concat.size())\n",
        "    #print(summed.size())\n",
        "    #return self.output_mlp(summed)\n",
        "    return summed\n"
      ],
      "metadata": {
        "id": "ng_HfxdjHhgk"
      },
      "execution_count": 17,
      "outputs": []
    },
    {
      "cell_type": "code",
      "source": [
        "class OtherConv_model(nn.Module):\n",
        "  def __init__(self):\n",
        "    super().__init__()\n",
        "    self.other_1 = OtherLayer(input_dim=1, intermediate_dim=12, output_dim=1, final_mlp_structure=[5,8], intermediate_self_mlp_structure=[5,8] , intermediate_sum_mlp_structure=[5,8])\n",
        "    self.other_2 = OtherLayer(input_dim=1, intermediate_dim=16, output_dim=1, final_mlp_structure=[8,8], intermediate_self_mlp_structure=[8,8], intermediate_sum_mlp_structure=[8,8])\n",
        "    self.other_3 = OtherLayer(input_dim=1, intermediate_dim=32, output_dim=1, final_mlp_structure=[8,12], intermediate_self_mlp_structure=[8,12], intermediate_sum_mlp_structure=[8,12])\n",
        "\n",
        "    #self.output_mlp = nn.Sequential(*[nn.Linear(1,12), nn.ReLU(), nn.Linear(12,12), nn.ReLU(), nn.Linear(12,12)])\n",
        "\n",
        "  def forward(self, x, adj):\n",
        "    h1 = self.other_1(x, adj)\n",
        "    h2 = self.other_2(h1, adj)\n",
        "    h3 = self.other_3(h2, adj)\n",
        "    #print(h3.size())\n",
        "    concat = torch.cat([h1,h2,h3], axis=1)\n",
        "    summed = torch.sum(concat, axis=0)\n",
        "    #print(concat.size())\n",
        "    #print(summed.size())\n",
        "    #return self.output_mlp(summed)\n",
        "    return summed\n"
      ],
      "metadata": {
        "id": "BJi2OWnEx27M"
      },
      "execution_count": 18,
      "outputs": []
    },
    {
      "cell_type": "code",
      "source": [
        "model = OtherConv_model().to(device)"
      ],
      "metadata": {
        "id": "SURUakjiKPBf"
      },
      "execution_count": 19,
      "outputs": []
    },
    {
      "cell_type": "code",
      "source": [
        "train_dataset = dataset\n",
        "train_dataloader = DataLoader(train_dataset, 1)\n",
        "optimiser = torch.optim.Adam(model.parameters(), lr=0.0001)\n",
        "train(train_dataloader, train_dataloader, model, criterion, optimiser, output_every=1)"
      ],
      "metadata": {
        "id": "jbGSZ1Hq6O6W"
      },
      "execution_count": null,
      "outputs": []
    }
  ]
}